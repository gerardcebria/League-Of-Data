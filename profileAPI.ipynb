{
 "cells": [
  {
   "cell_type": "markdown",
   "metadata": {},
   "source": [
    "## LOL"
   ]
  },
  {
   "cell_type": "code",
   "execution_count": 36,
   "metadata": {},
   "outputs": [],
   "source": [
    "api_key = \"RGAPI-d712d916-0d76-469e-920d-1328c628b082\""
   ]
  },
  {
   "cell_type": "code",
   "execution_count": 37,
   "metadata": {},
   "outputs": [],
   "source": [
    "import requests"
   ]
  },
  {
   "cell_type": "code",
   "execution_count": 38,
   "metadata": {},
   "outputs": [],
   "source": [
    "summoner = 'Alexelcapo'\n"
   ]
  },
  {
   "cell_type": "code",
   "execution_count": 39,
   "metadata": {},
   "outputs": [
    {
     "data": {
      "text/plain": [
       "<Response [200]>"
      ]
     },
     "execution_count": 39,
     "metadata": {},
     "output_type": "execute_result"
    }
   ],
   "source": [
    "response = requests.get(\"https://euw1.api.riotgames.com/lol/summoner/v4/summoners/by-name/\"+\n",
    "                        summoner+\"?api_key=\"+api_key)\n",
    "response"
   ]
  },
  {
   "cell_type": "code",
   "execution_count": 40,
   "metadata": {},
   "outputs": [
    {
     "data": {
      "text/plain": [
       "{'id': 'gyiqfPDNIiBOi-txqvdv2VUU1XyrIeSepamRyqkAPP61vE8',\n",
       " 'accountId': '-ZuC_q5UIHWmgoI0TJpTfFUcybI7eMkaTShdKm0OaPkPbg',\n",
       " 'puuid': 'p0xxwKZM0sjf9w8dgwkhjkphcZN6EKl4FGTY5rSNEk32ydxb91rwSlostFGdTL6w0zNuIk_LysgomQ',\n",
       " 'name': 'Alexelcapo',\n",
       " 'profileIconId': 7,\n",
       " 'revisionDate': 1620844554000,\n",
       " 'summonerLevel': 224}"
      ]
     },
     "execution_count": 40,
     "metadata": {},
     "output_type": "execute_result"
    }
   ],
   "source": [
    "perfil = response.json()\n",
    "perfil"
   ]
  },
  {
   "cell_type": "code",
   "execution_count": 41,
   "metadata": {},
   "outputs": [],
   "source": [
    "puuid = perfil['puuid']"
   ]
  },
  {
   "cell_type": "code",
   "execution_count": 42,
   "metadata": {},
   "outputs": [
    {
     "data": {
      "text/plain": [
       "[{'leagueId': '4ee21c9b-ee53-4070-b54c-0b1c23d3d6e6',\n",
       "  'queueType': 'RANKED_FLEX_SR',\n",
       "  'tier': 'SILVER',\n",
       "  'rank': 'I',\n",
       "  'summonerId': 'gyiqfPDNIiBOi-txqvdv2VUU1XyrIeSepamRyqkAPP61vE8',\n",
       "  'summonerName': 'Alexelcapo',\n",
       "  'leaguePoints': 100,\n",
       "  'wins': 18,\n",
       "  'losses': 13,\n",
       "  'veteran': False,\n",
       "  'inactive': False,\n",
       "  'freshBlood': False,\n",
       "  'hotStreak': False,\n",
       "  'miniSeries': {'target': 3, 'wins': 2, 'losses': 2, 'progress': 'WLWLN'}},\n",
       " {'leagueId': '3cc09e4d-660f-43c3-a7f5-468f9b8572e6',\n",
       "  'queueType': 'RANKED_SOLO_5x5',\n",
       "  'tier': 'GOLD',\n",
       "  'rank': 'III',\n",
       "  'summonerId': 'gyiqfPDNIiBOi-txqvdv2VUU1XyrIeSepamRyqkAPP61vE8',\n",
       "  'summonerName': 'Alexelcapo',\n",
       "  'leaguePoints': 32,\n",
       "  'wins': 43,\n",
       "  'losses': 36,\n",
       "  'veteran': False,\n",
       "  'inactive': False,\n",
       "  'freshBlood': False,\n",
       "  'hotStreak': False}]"
      ]
     },
     "execution_count": 42,
     "metadata": {},
     "output_type": "execute_result"
    }
   ],
   "source": [
    "response = requests.get(\"https://euw1.api.riotgames.com/lol/league/v4/entries/by-summoner/\"+\n",
    "                        perfil['id']+\"?api_key=\"+api_key)\n",
    "liga = response.json()\n",
    "liga"
   ]
  },
  {
   "cell_type": "code",
   "execution_count": 31,
   "metadata": {},
   "outputs": [
    {
     "data": {
      "text/plain": [
       "'https://euw1.api.riotgames.com/lol/league/v4/entries/by-summoner/uuUkDHixhfvxjGgw6UQDOums1HLvHFwCr5DMQh__Y3I5O6k'"
      ]
     },
     "execution_count": 31,
     "metadata": {},
     "output_type": "execute_result"
    }
   ],
   "source": []
  },
  {
   "cell_type": "code",
   "execution_count": 43,
   "metadata": {},
   "outputs": [
    {
     "data": {
      "text/plain": [
       "{'gameId': 5277250177,\n",
       " 'mapId': 11,\n",
       " 'gameMode': 'CLASSIC',\n",
       " 'gameType': 'MATCHED_GAME',\n",
       " 'gameQueueConfigId': 440,\n",
       " 'participants': [{'teamId': 100,\n",
       "   'spell1Id': 14,\n",
       "   'spell2Id': 4,\n",
       "   'championId': 90,\n",
       "   'profileIconId': 7,\n",
       "   'summonerName': 'Alexelcapo',\n",
       "   'bot': False,\n",
       "   'summonerId': 'gyiqfPDNIiBOi-txqvdv2VUU1XyrIeSepamRyqkAPP61vE8',\n",
       "   'gameCustomizationObjects': [],\n",
       "   'perks': {'perkIds': [8112, 8143, 8138, 8106, 8226, 8237, 5008, 5008, 5003],\n",
       "    'perkStyle': 8100,\n",
       "    'perkSubStyle': 8200}},\n",
       "  {'teamId': 100,\n",
       "   'spell1Id': 4,\n",
       "   'spell2Id': 11,\n",
       "   'championId': 68,\n",
       "   'profileIconId': 19,\n",
       "   'summonerName': 'Felipez nomas',\n",
       "   'bot': False,\n",
       "   'summonerId': 'DbH02vmCyI2YRp0i-Xl7d3RKBLSZ1_f8vvO3iCPNfQcBPBE',\n",
       "   'gameCustomizationObjects': [],\n",
       "   'perks': {'perkIds': [8128, 8126, 8138, 8106, 8233, 8236, 5007, 5008, 5002],\n",
       "    'perkStyle': 8100,\n",
       "    'perkSubStyle': 8200}},\n",
       "  {'teamId': 100,\n",
       "   'spell1Id': 7,\n",
       "   'spell2Id': 4,\n",
       "   'championId': 51,\n",
       "   'profileIconId': 1109,\n",
       "   'summonerName': 'Pandarina',\n",
       "   'bot': False,\n",
       "   'summonerId': 'f1jrfotzXETjy488vjVcyzMdA_pxj-2x_74DEv6PNHMe11M',\n",
       "   'gameCustomizationObjects': [],\n",
       "   'perks': {'perkIds': [8008, 8009, 9103, 8017, 8345, 8347, 5005, 5008, 5002],\n",
       "    'perkStyle': 8000,\n",
       "    'perkSubStyle': 8300}},\n",
       "  {'teamId': 100,\n",
       "   'spell1Id': 4,\n",
       "   'spell2Id': 14,\n",
       "   'championId': 53,\n",
       "   'profileIconId': 4052,\n",
       "   'summonerName': 'SorryLag',\n",
       "   'bot': False,\n",
       "   'summonerId': 'xbhKPWGdbX57CBgrJ8zoj2ghQJpA9X-I9hU6V9-350_64qA',\n",
       "   'gameCustomizationObjects': [],\n",
       "   'perks': {'perkIds': [8439, 8446, 8429, 8242, 8306, 8345, 5007, 5002, 5002],\n",
       "    'perkStyle': 8400,\n",
       "    'perkSubStyle': 8300}},\n",
       "  {'teamId': 100,\n",
       "   'spell1Id': 12,\n",
       "   'spell2Id': 4,\n",
       "   'championId': 14,\n",
       "   'profileIconId': 3589,\n",
       "   'summonerName': 'ESP Yuste',\n",
       "   'bot': False,\n",
       "   'summonerId': 'ox3bPFBdZzn0mbusL7Hxj0xRGSmPmn9EHlqo57NtURXbW04',\n",
       "   'gameCustomizationObjects': [],\n",
       "   'perks': {'perkIds': [8437, 8446, 8444, 8451, 8304, 8345, 5008, 5008, 5002],\n",
       "    'perkStyle': 8400,\n",
       "    'perkSubStyle': 8300}},\n",
       "  {'teamId': 200,\n",
       "   'spell1Id': 7,\n",
       "   'spell2Id': 4,\n",
       "   'championId': 222,\n",
       "   'profileIconId': 4881,\n",
       "   'summonerName': 'aLeP 605',\n",
       "   'bot': False,\n",
       "   'summonerId': 'SLZTp-18aJscTRTEB9hirrBUzpnl8Lfr81g7lHoIqJy9m_I',\n",
       "   'gameCustomizationObjects': [],\n",
       "   'perks': {'perkIds': [8005, 8009, 9104, 8017, 8139, 8135, 5005, 5008, 5002],\n",
       "    'perkStyle': 8000,\n",
       "    'perkSubStyle': 8100}},\n",
       "  {'teamId': 200,\n",
       "   'spell1Id': 4,\n",
       "   'spell2Id': 14,\n",
       "   'championId': 777,\n",
       "   'profileIconId': 4832,\n",
       "   'summonerName': 'Bin Meerkat',\n",
       "   'bot': False,\n",
       "   'summonerId': 'ObUGsOEKEheEME2oO5oYO8LXnaHuxSx9ZcdYa3X6hTXI7pY',\n",
       "   'gameCustomizationObjects': [],\n",
       "   'perks': {'perkIds': [8021, 9111, 9104, 8014, 8139, 8135, 5005, 5008, 5003],\n",
       "    'perkStyle': 8000,\n",
       "    'perkSubStyle': 8100}},\n",
       "  {'teamId': 200,\n",
       "   'spell1Id': 4,\n",
       "   'spell2Id': 12,\n",
       "   'championId': 106,\n",
       "   'profileIconId': 4834,\n",
       "   'summonerName': 'JuuzouSuzuyaRe',\n",
       "   'bot': False,\n",
       "   'summonerId': 'WzShxT-9dzu23tEAm5hwhR-FX4vNTRQhxtuVxmg-pqMIiai6',\n",
       "   'gameCustomizationObjects': [],\n",
       "   'perks': {'perkIds': [8437, 8401, 8444, 8451, 8299, 9105, 5008, 5008, 5002],\n",
       "    'perkStyle': 8400,\n",
       "    'perkSubStyle': 8000}},\n",
       "  {'teamId': 200,\n",
       "   'spell1Id': 4,\n",
       "   'spell2Id': 11,\n",
       "   'championId': 56,\n",
       "   'profileIconId': 3542,\n",
       "   'summonerName': 'niyo32',\n",
       "   'bot': False,\n",
       "   'summonerId': 'CZqkf1LZRxnelpOCfj1TeV7yPsIsxZJGG-oUDP5oofaVpXFDdFxvDJryow',\n",
       "   'gameCustomizationObjects': [],\n",
       "   'perks': {'perkIds': [8112, 8139, 8138, 8135, 9111, 8014, 5005, 5008, 5002],\n",
       "    'perkStyle': 8100,\n",
       "    'perkSubStyle': 8000}},\n",
       "  {'teamId': 200,\n",
       "   'spell1Id': 14,\n",
       "   'spell2Id': 4,\n",
       "   'championId': 63,\n",
       "   'profileIconId': 3459,\n",
       "   'summonerName': 'Briesmarin',\n",
       "   'bot': False,\n",
       "   'summonerId': 'NZhvAyCgcM4hKb4yirfAkE3NyQdRsVOO7BcgU46koSndhlDVuR9mtJr3Rw',\n",
       "   'gameCustomizationObjects': [],\n",
       "   'perks': {'perkIds': [8128, 8139, 8138, 8134, 8345, 8347, 5007, 5008, 5002],\n",
       "    'perkStyle': 8100,\n",
       "    'perkSubStyle': 8300}}],\n",
       " 'observers': {'encryptionKey': 'svSKtmQjjeiS8US0K2vhpt9dAhAIympJ'},\n",
       " 'platformId': 'EUW1',\n",
       " 'bannedChampions': [{'championId': 55, 'teamId': 100, 'pickTurn': 1},\n",
       "  {'championId': 131, 'teamId': 100, 'pickTurn': 2},\n",
       "  {'championId': 157, 'teamId': 100, 'pickTurn': 3},\n",
       "  {'championId': 12, 'teamId': 100, 'pickTurn': 4},\n",
       "  {'championId': 360, 'teamId': 100, 'pickTurn': 5},\n",
       "  {'championId': 99, 'teamId': 200, 'pickTurn': 6},\n",
       "  {'championId': 89, 'teamId': 200, 'pickTurn': 7},\n",
       "  {'championId': 67, 'teamId': 200, 'pickTurn': 8},\n",
       "  {'championId': 111, 'teamId': 200, 'pickTurn': 9},\n",
       "  {'championId': 54, 'teamId': 200, 'pickTurn': 10}],\n",
       " 'gameStartTime': 1621447401989,\n",
       " 'gameLength': 658}"
      ]
     },
     "execution_count": 43,
     "metadata": {},
     "output_type": "execute_result"
    }
   ],
   "source": [
    "response = requests.get(\"https://euw1.api.riotgames.com/lol/spectator/v4/active-games/by-summoner/\"+\n",
    "                        perfil['id']+\"?api_key=\"+api_key)\n",
    "partido_actual = response.json()\n",
    "partido_actual"
   ]
  },
  {
   "cell_type": "code",
   "execution_count": null,
   "metadata": {},
   "outputs": [],
   "source": []
  }
 ],
 "metadata": {
  "kernelspec": {
   "display_name": "Python 3",
   "language": "python",
   "name": "python3"
  },
  "language_info": {
   "codemirror_mode": {
    "name": "ipython",
    "version": 3
   },
   "file_extension": ".py",
   "mimetype": "text/x-python",
   "name": "python",
   "nbconvert_exporter": "python",
   "pygments_lexer": "ipython3",
   "version": "3.8.5"
  }
 },
 "nbformat": 4,
 "nbformat_minor": 4
}
